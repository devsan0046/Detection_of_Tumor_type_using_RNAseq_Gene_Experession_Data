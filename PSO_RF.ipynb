{
  "nbformat": 4,
  "nbformat_minor": 0,
  "metadata": {
    "colab": {
      "name": "PSO_RF.ipynb",
      "provenance": []
    },
    "kernelspec": {
      "name": "python3",
      "display_name": "Python 3"
    },
    "language_info": {
      "name": "python"
    }
  },
  "cells": [
    {
      "cell_type": "code",
      "metadata": {
        "id": "dfvpSSYxOdI9"
      },
      "source": [
        "import numpy as np\n",
        "import pandas as pd\n",
        "import pyswarms as ps\n",
        "from sklearn.metrics import mean_squared_error\n",
        "from sklearn import neighbors\n",
        "from sklearn.model_selection import KFold\n",
        "from sklearn.ensemble import RandomForestClassifier\n",
        "from sklearn.metrics import multilabel_confusion_matrix, precision_recall_fscore_support, recall_score, precision_score, f1_score, confusion_matrix, accuracy_score\n",
        "from sklearn import preprocessing\n",
        "import seaborn as sn\n",
        "import matplotlib.pyplot as plt"
      ],
      "execution_count": 5,
      "outputs": []
    },
    {
      "cell_type": "code",
      "metadata": {
        "colab": {
          "base_uri": "https://localhost:8080/"
        },
        "id": "MfXkV5c6PKG_",
        "outputId": "b563fa43-cf98-494c-8aef-63edcecb4370"
      },
      "source": [
        "pip install pyswarms"
      ],
      "execution_count": 4,
      "outputs": [
        {
          "output_type": "stream",
          "text": [
            "Collecting pyswarms\n",
            "\u001b[?25l  Downloading https://files.pythonhosted.org/packages/d1/fd/5c2baba82425b75baf7dbec5af57219cd252aa8a1ace4f5cd1d88e472276/pyswarms-1.3.0-py2.py3-none-any.whl (104kB)\n",
            "\r\u001b[K     |███▏                            | 10kB 14.3MB/s eta 0:00:01\r\u001b[K     |██████▎                         | 20kB 14.2MB/s eta 0:00:01\r\u001b[K     |█████████▍                      | 30kB 10.4MB/s eta 0:00:01\r\u001b[K     |████████████▋                   | 40kB 8.9MB/s eta 0:00:01\r\u001b[K     |███████████████▊                | 51kB 5.6MB/s eta 0:00:01\r\u001b[K     |██████████████████▉             | 61kB 5.8MB/s eta 0:00:01\r\u001b[K     |██████████████████████          | 71kB 6.3MB/s eta 0:00:01\r\u001b[K     |█████████████████████████▏      | 81kB 6.7MB/s eta 0:00:01\r\u001b[K     |████████████████████████████▎   | 92kB 6.7MB/s eta 0:00:01\r\u001b[K     |███████████████████████████████▌| 102kB 6.8MB/s eta 0:00:01\r\u001b[K     |████████████████████████████████| 112kB 6.8MB/s \n",
            "\u001b[?25hRequirement already satisfied: scipy in /usr/local/lib/python3.7/dist-packages (from pyswarms) (1.4.1)\n",
            "Requirement already satisfied: attrs in /usr/local/lib/python3.7/dist-packages (from pyswarms) (20.3.0)\n",
            "Requirement already satisfied: pyyaml in /usr/local/lib/python3.7/dist-packages (from pyswarms) (3.13)\n",
            "Requirement already satisfied: matplotlib>=1.3.1 in /usr/local/lib/python3.7/dist-packages (from pyswarms) (3.2.2)\n",
            "Requirement already satisfied: future in /usr/local/lib/python3.7/dist-packages (from pyswarms) (0.16.0)\n",
            "Requirement already satisfied: tqdm in /usr/local/lib/python3.7/dist-packages (from pyswarms) (4.41.1)\n",
            "Requirement already satisfied: numpy in /usr/local/lib/python3.7/dist-packages (from pyswarms) (1.19.5)\n",
            "Requirement already satisfied: cycler>=0.10 in /usr/local/lib/python3.7/dist-packages (from matplotlib>=1.3.1->pyswarms) (0.10.0)\n",
            "Requirement already satisfied: kiwisolver>=1.0.1 in /usr/local/lib/python3.7/dist-packages (from matplotlib>=1.3.1->pyswarms) (1.3.1)\n",
            "Requirement already satisfied: python-dateutil>=2.1 in /usr/local/lib/python3.7/dist-packages (from matplotlib>=1.3.1->pyswarms) (2.8.1)\n",
            "Requirement already satisfied: pyparsing!=2.0.4,!=2.1.2,!=2.1.6,>=2.0.1 in /usr/local/lib/python3.7/dist-packages (from matplotlib>=1.3.1->pyswarms) (2.4.7)\n",
            "Requirement already satisfied: six in /usr/local/lib/python3.7/dist-packages (from cycler>=0.10->matplotlib>=1.3.1->pyswarms) (1.15.0)\n",
            "Installing collected packages: pyswarms\n",
            "Successfully installed pyswarms-1.3.0\n"
          ],
          "name": "stdout"
        }
      ]
    },
    {
      "cell_type": "code",
      "metadata": {
        "colab": {
          "base_uri": "https://localhost:8080/"
        },
        "id": "3Y0-PnJzOgam",
        "outputId": "59a85cad-af77-4f39-bd66-c0f99a6141af"
      },
      "source": [
        "import os\n",
        "from google.colab import drive\n",
        "drive.mount('/content/gdrive')"
      ],
      "execution_count": 6,
      "outputs": [
        {
          "output_type": "stream",
          "text": [
            "Mounted at /content/gdrive\n"
          ],
          "name": "stdout"
        }
      ]
    },
    {
      "cell_type": "code",
      "metadata": {
        "id": "xkjgqSecOgdS"
      },
      "source": [
        "os.chdir('/content/gdrive/My Drive/placement/IIBM')\n",
        "data = pd.read_csv('tumor_data.csv')\n",
        "label = pd.read_csv('tumor_labels.csv')"
      ],
      "execution_count": 7,
      "outputs": []
    },
    {
      "cell_type": "code",
      "metadata": {
        "id": "GwOogPFEO6ZV"
      },
      "source": [
        "X = data.values[:,1:]\n",
        "\n",
        "#Encode the variable\n",
        "\n",
        "encode = preprocessing.LabelEncoder()\n",
        "encode.fit(label.Class.unique())\n",
        "y = encode.transform(label.Class.values)"
      ],
      "execution_count": 8,
      "outputs": []
    },
    {
      "cell_type": "code",
      "metadata": {
        "id": "2lhP1--COggC"
      },
      "source": [
        "### PSO function ###\n",
        "\n",
        "def pso_feature_selection(X,y):\n",
        "\n",
        "    ### Change this to NN here ####\n",
        "    classifier = RandomForestClassifier(n_estimators = 10, criterion = 'entropy', random_state = 42)\n",
        "    total_feat = X.shape[1]\n",
        "    \n",
        "    # Define objective function\n",
        "    def f_per_particle(m):\n",
        "\n",
        "        #total_features = total_feat\n",
        "        # Get the subset of the features from the binary mask\n",
        "        if np.count_nonzero(m) == 0:\n",
        "            X_subset = X\n",
        "        else:\n",
        "            X_subset = X[:,m==1]\n",
        "        # Perform classification and store performance in P\n",
        "        classifier.fit(X_subset, y)\n",
        "\n",
        "        # Compute for the objective function\n",
        "        P = (classifier.score(X_subset,y))\n",
        "        #j = (alpha * (1.0 - P)+ (1.0 - alpha) * (1 - (X_subset.shape[1] / total_features)))\n",
        "\n",
        "        return P\n",
        "\n",
        "\n",
        "    def f(x):\n",
        "        n_particles = x.shape[0]\n",
        "        j = [f_per_particle(x[i]) for i in range(n_particles)]\n",
        "        return np.array(j)\n",
        "\n",
        "\n",
        "    options = {'c1': 0.5, 'c2': 0.5, 'w':0.9, 'k': 30, 'p':2}\n",
        "\n",
        "    # Call instance of PSO\n",
        "    dimensions = total_feat # dimensions should be the number of features\n",
        "    #init = np.random.choice([0, 1], size=(10,dimensions), p=[(dimensions-50)/dimensions, 50/dimensions])\n",
        "    optimizer = ps.discrete.BinaryPSO(n_particles=30, dimensions=dimensions, options=options,init_pos=None)\n",
        "\n",
        "    # Perform optimization\n",
        "    cost, pos = optimizer.optimize(f,iters=10,verbose=True)\n",
        "\n",
        "    return pos"
      ],
      "execution_count": 9,
      "outputs": []
    },
    {
      "cell_type": "code",
      "metadata": {
        "colab": {
          "base_uri": "https://localhost:8080/"
        },
        "id": "62DIHhNCOgiw",
        "outputId": "f8284618-e5bb-40b1-a333-3e8de0803e36"
      },
      "source": [
        "## Cross validation ###\n",
        "\n",
        "KF = KFold(n_splits=5,shuffle=True)\n",
        "total_train_accuracy = 0\n",
        "total_test_accuracy = 0\n",
        "total_precision = 0\n",
        "total_recall = 0\n",
        "total_fscore = 0\n",
        "final_conf_mat =0\n",
        "\n",
        "for train_index, test_index in KF.split(X):\n",
        "    # Split train-test\n",
        "    x_train, x_test = X[train_index], X[test_index]\n",
        "    y_train, y_test = y[train_index], y[test_index]\n",
        "\n",
        "    #### Feature Selection\n",
        "\n",
        "    pos = pso_feature_selection(x_test,y_test)\n",
        "    print('No. of count',np.count_nonzero(pos))\n",
        "\n",
        "    x1_train = np.array(x_train[:,pos==1]) \n",
        "    x1_test = np.array(x_test[:,pos==1]) \n",
        "\n",
        "    ### Classification model (ADD NN to be fit here)###\n",
        "\n",
        "    classifier = RandomForestClassifier(n_estimators = 10, criterion = 'entropy', random_state = 42)\n",
        "    classifier.fit(x1_train, y_train)\n",
        "\n",
        "    y_pred = classifier.predict(x1_test)\n",
        "\n",
        "    ##### Scoring #########\n",
        "\n",
        "    print (\"Checking on Train Set\")\n",
        "    print (\"\\nAccuracy on Training Set :\"+str(classifier.score(x1_train,y_train)))\n",
        "    total_train_accuracy += classifier.score(x1_train,y_train)\n",
        "\n",
        "    print (\"Checking on Test Set\")\n",
        "    print (\"\\nAccuracy on Testing Set :\"+str(accuracy_score(y_test,y_pred)))\n",
        "    total_test_accuracy += accuracy_score(y_test,y_pred)\n",
        "  \n",
        "    total_precision+= precision_score(y_test, y_pred,average='macro')\n",
        "    total_recall+= recall_score(y_test, y_pred,average='macro')\t\n",
        "    total_fscore+= f1_score(y_test, y_pred,average='macro')\t\n",
        "    print (\"\\nPrecision Score\")\n",
        "    print (precision_score(y_test, y_pred,average='macro'))\n",
        "    print (\"\\nRecall Score\")\n",
        "    print (recall_score(y_test, y_pred,average='macro'))\t\n",
        "    print (\"\\nF1 Score\")\n",
        "    print (f1_score(y_test, y_pred,average='macro'))\n",
        "\n",
        "    #Confusion Matrix\n",
        "    conf_mat=confusion_matrix(y_test, y_pred)\n",
        "    final_conf_mat+=conf_mat\n",
        "    print(\"Confusion matrix :\\n\")\n",
        "    print(conf_mat)\n",
        "    "
      ],
      "execution_count": 10,
      "outputs": [
        {
          "output_type": "stream",
          "text": [
            "2021-04-22 06:24:37,763 - pyswarms.discrete.binary - INFO - Optimize for 10 iters with {'c1': 0.5, 'c2': 0.5, 'w': 0.9, 'k': 30, 'p': 2}\n",
            "pyswarms.discrete.binary: 100%|██████████|10/10, best_cost=0.994\n",
            "2021-04-22 06:26:02,857 - pyswarms.discrete.binary - INFO - Optimization finished | best cost: 0.9937888198757764, best pos: [1 1 1 ... 1 1 0]\n"
          ],
          "name": "stderr"
        },
        {
          "output_type": "stream",
          "text": [
            "No. of count 10977\n",
            "Checking on Train Set\n",
            "\n",
            "Accuracy on Training Set :1.0\n",
            "Checking on Test Set\n",
            "\n",
            "Accuracy on Testing Set :0.9875776397515528\n",
            "\n",
            "Precision Score\n",
            "0.9885714285714287\n",
            "\n",
            "Recall Score\n",
            "0.9889855072463767\n",
            "\n",
            "F1 Score\n",
            "0.9885300143525468\n",
            "Confusion matrix :\n",
            "\n",
            "[[45  0  0  1  0]\n",
            " [ 0 22  0  0  0]\n",
            " [ 0  0 30  0  0]\n",
            " [ 0  0  0 33  0]\n",
            " [ 0  0  0  1 29]]\n"
          ],
          "name": "stdout"
        },
        {
          "output_type": "stream",
          "text": [
            "2021-04-22 06:26:08,471 - pyswarms.discrete.binary - INFO - Optimize for 10 iters with {'c1': 0.5, 'c2': 0.5, 'w': 0.9, 'k': 30, 'p': 2}\n",
            "pyswarms.discrete.binary: 100%|██████████|10/10, best_cost=0.994\n",
            "2021-04-22 06:27:31,881 - pyswarms.discrete.binary - INFO - Optimization finished | best cost: 0.99375, best pos: [0 0 1 ... 1 1 0]\n"
          ],
          "name": "stderr"
        },
        {
          "output_type": "stream",
          "text": [
            "No. of count 11770\n",
            "Checking on Train Set\n",
            "\n",
            "Accuracy on Training Set :1.0\n",
            "Checking on Test Set\n",
            "\n",
            "Accuracy on Testing Set :1.0\n",
            "\n",
            "Precision Score\n",
            "1.0\n",
            "\n",
            "Recall Score\n",
            "1.0\n",
            "\n",
            "F1 Score\n",
            "1.0\n",
            "Confusion matrix :\n",
            "\n",
            "[[72  0  0  0  0]\n",
            " [ 0 14  0  0  0]\n",
            " [ 0  0 27  0  0]\n",
            " [ 0  0  0 24  0]\n",
            " [ 0  0  0  0 23]]\n"
          ],
          "name": "stdout"
        },
        {
          "output_type": "stream",
          "text": [
            "2021-04-22 06:27:37,487 - pyswarms.discrete.binary - INFO - Optimize for 10 iters with {'c1': 0.5, 'c2': 0.5, 'w': 0.9, 'k': 30, 'p': 2}\n",
            "pyswarms.discrete.binary: 100%|██████████|10/10, best_cost=0.994\n",
            "2021-04-22 06:29:00,760 - pyswarms.discrete.binary - INFO - Optimization finished | best cost: 0.99375, best pos: [1 0 0 ... 0 0 1]\n"
          ],
          "name": "stderr"
        },
        {
          "output_type": "stream",
          "text": [
            "No. of count 11649\n",
            "Checking on Train Set\n",
            "\n",
            "Accuracy on Training Set :1.0\n",
            "Checking on Test Set\n",
            "\n",
            "Accuracy on Testing Set :0.99375\n",
            "\n",
            "Precision Score\n",
            "0.9964285714285716\n",
            "\n",
            "Recall Score\n",
            "0.9913043478260869\n",
            "\n",
            "F1 Score\n",
            "0.9937537537537537\n",
            "Confusion matrix :\n",
            "\n",
            "[[55  0  0  0  0]\n",
            " [ 0 15  0  0  0]\n",
            " [ 0  0 34  0  0]\n",
            " [ 1  0  0 22  0]\n",
            " [ 0  0  0  0 33]]\n"
          ],
          "name": "stdout"
        },
        {
          "output_type": "stream",
          "text": [
            "2021-04-22 06:29:05,613 - pyswarms.discrete.binary - INFO - Optimize for 10 iters with {'c1': 0.5, 'c2': 0.5, 'w': 0.9, 'k': 30, 'p': 2}\n",
            "pyswarms.discrete.binary: 100%|██████████|10/10, best_cost=0.994\n",
            "2021-04-22 06:30:30,233 - pyswarms.discrete.binary - INFO - Optimization finished | best cost: 0.99375, best pos: [1 1 0 ... 1 0 1]\n"
          ],
          "name": "stderr"
        },
        {
          "output_type": "stream",
          "text": [
            "No. of count 11553\n",
            "Checking on Train Set\n",
            "\n",
            "Accuracy on Training Set :1.0\n",
            "Checking on Test Set\n",
            "\n",
            "Accuracy on Testing Set :0.975\n",
            "\n",
            "Precision Score\n",
            "0.984317617866005\n",
            "\n",
            "Recall Score\n",
            "0.9639003539704802\n",
            "\n",
            "F1 Score\n",
            "0.9735822952876289\n",
            "Confusion matrix :\n",
            "\n",
            "[[62  0  0  0  0]\n",
            " [ 0 13  0  1  0]\n",
            " [ 1  0 29  0  0]\n",
            " [ 1  0  0 30  0]\n",
            " [ 1  0  0  0 22]]\n"
          ],
          "name": "stdout"
        },
        {
          "output_type": "stream",
          "text": [
            "2021-04-22 06:30:35,987 - pyswarms.discrete.binary - INFO - Optimize for 10 iters with {'c1': 0.5, 'c2': 0.5, 'w': 0.9, 'k': 30, 'p': 2}\n",
            "pyswarms.discrete.binary: 100%|██████████|10/10, best_cost=0.994\n",
            "2021-04-22 06:32:01,758 - pyswarms.discrete.binary - INFO - Optimization finished | best cost: 0.99375, best pos: [0 1 0 ... 0 0 0]\n"
          ],
          "name": "stderr"
        },
        {
          "output_type": "stream",
          "text": [
            "No. of count 10877\n",
            "Checking on Train Set\n",
            "\n",
            "Accuracy on Training Set :1.0\n",
            "Checking on Test Set\n",
            "\n",
            "Accuracy on Testing Set :0.99375\n",
            "\n",
            "Precision Score\n",
            "0.9969696969696968\n",
            "\n",
            "Recall Score\n",
            "0.9933333333333334\n",
            "\n",
            "F1 Score\n",
            "0.9950834519342735\n",
            "Confusion matrix :\n",
            "\n",
            "[[65  0  0  0  0]\n",
            " [ 0 13  0  0  0]\n",
            " [ 0  0 25  0  0]\n",
            " [ 1  0  0 29  0]\n",
            " [ 0  0  0  0 27]]\n"
          ],
          "name": "stdout"
        }
      ]
    },
    {
      "cell_type": "code",
      "metadata": {
        "colab": {
          "base_uri": "https://localhost:8080/",
          "height": 464
        },
        "id": "2psBuCBfOglu",
        "outputId": "eddd8825-a0ac-4f27-b768-edc702fce79d"
      },
      "source": [
        "print(\"Mean train accuracy : %.2f\" % ((total_train_accuracy/5)*100))\n",
        "print(\"Mean test accuracy : %.2f\" % ((total_test_accuracy/5)*100))\n",
        "print(\"Mean precision : %.2f\" % ((total_precision/5)*100))\n",
        "print(\"Mean recall : %.2f\" % ((total_recall/5)*100))\n",
        "print(\"Mean fscore : %.2f\" % ((total_fscore/5)*100))\n",
        "\n",
        "print(\"Confusion matrix : \" )\n",
        "print(final_conf_mat)\n",
        "#plt.figure(figsize=(5,5))\n",
        "sn.heatmap(final_conf_mat, annot=True)\n",
        "plt.xlabel('Predicted')\n",
        "plt.ylabel('Truth')\n",
        "plt.show()"
      ],
      "execution_count": 11,
      "outputs": [
        {
          "output_type": "stream",
          "text": [
            "Mean train accuracy : 100.00\n",
            "Mean test accuracy : 99.00\n",
            "Mean precision : 99.33\n",
            "Mean recall : 98.75\n",
            "Mean fscore : 99.02\n",
            "Confusion matrix : \n",
            "[[299   0   0   1   0]\n",
            " [  0  77   0   1   0]\n",
            " [  1   0 145   0   0]\n",
            " [  3   0   0 138   0]\n",
            " [  1   0   0   1 134]]\n"
          ],
          "name": "stdout"
        },
        {
          "output_type": "display_data",
          "data": {
            "image/png": "[encoded data removed]",
            "text/plain": [
              "<Figure size 432x288 with 2 Axes>"
            ]
          },
          "metadata": {
            "tags": [],
            "needs_background": "light"
          }
        }
      ]
    },
    {
      "cell_type": "code",
      "metadata": {
        "id": "ZvkRsNYtOg1J"
      },
      "source": [
        ""
      ],
      "execution_count": null,
      "outputs": []
    },
    {
      "cell_type": "code",
      "metadata": {
        "id": "ISwSQ6EkOg7j"
      },
      "source": [
        ""
      ],
      "execution_count": null,
      "outputs": []
    }
  ]
}