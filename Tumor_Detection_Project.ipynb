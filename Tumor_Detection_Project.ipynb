{
  "nbformat": 4,
  "nbformat_minor": 0,
  "metadata": {
    "colab": {
      "name": "Tumor_Detection_Project.ipynb",
      "provenance": []
    },
    "kernelspec": {
      "display_name": "Python 3",
      "name": "python3"
    },
    "language_info": {
      "name": "python"
    }
  },
  "cells": [
    {
      "cell_type": "code",
      "metadata": {
        "id": "OoDgQocVzV9D"
      },
      "source": [
        "import pandas as pd\n",
        "import numpy as np\n",
        "import matplotlib.pyplot as plt\n",
        "import seaborn as sns\n",
        "from sklearn import preprocessing \n",
        "from sklearn.feature_selection import SelectKBest,chi2\n",
        "from sklearn.model_selection import KFold\n",
        "from sklearn.ensemble import RandomForestClassifier\n",
        "from sklearn.metrics import precision_recall_fscore_support,precision_score,accuracy_score,f1_score,confusion_matrix,plot_precision_recall_curve,recall_score"
      ],
      "execution_count": 1,
      "outputs": []
    },
    {
      "cell_type": "code",
      "metadata": {
        "colab": {
          "base_uri": "https://localhost:8080/"
        },
        "id": "WNxlPPm81ZCK",
        "outputId": "dc933700-195a-4aed-91a1-a1a1dd4266d7"
      },
      "source": [
        "import os\n",
        "from google.colab import drive\n",
        "drive.mount('/content/gdrive')"
      ],
      "execution_count": 2,
      "outputs": [
        {
          "output_type": "stream",
          "text": [
            "Mounted at /content/gdrive\n"
          ],
          "name": "stdout"
        }
      ]
    },
    {
      "cell_type": "code",
      "metadata": {
        "id": "gZPfb6XQ1ZEn"
      },
      "source": [
        "os.chdir('/content/gdrive/My Drive/placement/IIBM')\n",
        "data = pd.read_csv('tumor_data.csv')\n",
        "label = pd.read_csv('tumor_labels.csv')"
      ],
      "execution_count": 3,
      "outputs": []
    },
    {
      "cell_type": "code",
      "metadata": {
        "colab": {
          "base_uri": "https://localhost:8080/",
          "height": 261
        },
        "id": "V5O2XqGC1ZHX",
        "outputId": "9ddb0dcf-6b73-46ed-d3de-ce83a7570231"
      },
      "source": [
        "data.head()"
      ],
      "execution_count": 4,
      "outputs": [
        {
          "output_type": "execute_result",
          "data": {
            "text/html": [
              "<div>\n",
              "<style scoped>\n",
              "    .dataframe tbody tr th:only-of-type {\n",
              "        vertical-align: middle;\n",
              "    }\n",
              "\n",
              "    .dataframe tbody tr th {\n",
              "        vertical-align: top;\n",
              "    }\n",
              "\n",
              "    .dataframe thead th {\n",
              "        text-align: right;\n",
              "    }\n",
              "</style>\n",
              "<table border=\"1\" class=\"dataframe\">\n",
              "  <thead>\n",
              "    <tr style=\"text-align: right;\">\n",
              "      <th></th>\n",
              "      <th>Unnamed: 0</th>\n",
              "      <th>gene_0</th>\n",
              "      <th>gene_1</th>\n",
              "      <th>gene_2</th>\n",
              "      <th>gene_3</th>\n",
              "      <th>gene_4</th>\n",
              "      <th>gene_5</th>\n",
              "      <th>gene_6</th>\n",
              "      <th>gene_7</th>\n",
              "      <th>gene_8</th>\n",
              "      <th>gene_9</th>\n",
              "      <th>gene_10</th>\n",
              "      <th>gene_11</th>\n",
              "      <th>gene_12</th>\n",
              "      <th>gene_13</th>\n",
              "      <th>gene_14</th>\n",
              "      <th>gene_15</th>\n",
              "      <th>gene_16</th>\n",
              "      <th>gene_17</th>\n",
              "      <th>gene_18</th>\n",
              "      <th>gene_19</th>\n",
              "      <th>gene_20</th>\n",
              "      <th>gene_21</th>\n",
              "      <th>gene_22</th>\n",
              "      <th>gene_23</th>\n",
              "      <th>gene_24</th>\n",
              "      <th>gene_25</th>\n",
              "      <th>gene_26</th>\n",
              "      <th>gene_27</th>\n",
              "      <th>gene_28</th>\n",
              "      <th>gene_29</th>\n",
              "      <th>gene_30</th>\n",
              "      <th>gene_31</th>\n",
              "      <th>gene_32</th>\n",
              "      <th>gene_33</th>\n",
              "      <th>gene_34</th>\n",
              "      <th>gene_35</th>\n",
              "      <th>gene_36</th>\n",
              "      <th>gene_37</th>\n",
              "      <th>gene_38</th>\n",
              "      <th>...</th>\n",
              "      <th>gene_20491</th>\n",
              "      <th>gene_20492</th>\n",
              "      <th>gene_20493</th>\n",
              "      <th>gene_20494</th>\n",
              "      <th>gene_20495</th>\n",
              "      <th>gene_20496</th>\n",
              "      <th>gene_20497</th>\n",
              "      <th>gene_20498</th>\n",
              "      <th>gene_20499</th>\n",
              "      <th>gene_20500</th>\n",
              "      <th>gene_20501</th>\n",
              "      <th>gene_20502</th>\n",
              "      <th>gene_20503</th>\n",
              "      <th>gene_20504</th>\n",
              "      <th>gene_20505</th>\n",
              "      <th>gene_20506</th>\n",
              "      <th>gene_20507</th>\n",
              "      <th>gene_20508</th>\n",
              "      <th>gene_20509</th>\n",
              "      <th>gene_20510</th>\n",
              "      <th>gene_20511</th>\n",
              "      <th>gene_20512</th>\n",
              "      <th>gene_20513</th>\n",
              "      <th>gene_20514</th>\n",
              "      <th>gene_20515</th>\n",
              "      <th>gene_20516</th>\n",
              "      <th>gene_20517</th>\n",
              "      <th>gene_20518</th>\n",
              "      <th>gene_20519</th>\n",
              "      <th>gene_20520</th>\n",
              "      <th>gene_20521</th>\n",
              "      <th>gene_20522</th>\n",
              "      <th>gene_20523</th>\n",
              "      <th>gene_20524</th>\n",
              "      <th>gene_20525</th>\n",
              "      <th>gene_20526</th>\n",
              "      <th>gene_20527</th>\n",
              "      <th>gene_20528</th>\n",
              "      <th>gene_20529</th>\n",
              "      <th>gene_20530</th>\n",
              "    </tr>\n",
              "  </thead>\n",
              "  <tbody>\n",
              "    <tr>\n",
              "      <th>0</th>\n",
              "      <td>sample_0</td>\n",
              "      <td>0.0</td>\n",
              "      <td>2.017209</td>\n",
              "      <td>3.265527</td>\n",
              "      <td>5.478487</td>\n",
              "      <td>10.431999</td>\n",
              "      <td>0.0</td>\n",
              "      <td>7.175175</td>\n",
              "      <td>0.591871</td>\n",
              "      <td>0.0</td>\n",
              "      <td>0.0</td>\n",
              "      <td>0.591871</td>\n",
              "      <td>1.334282</td>\n",
              "      <td>2.015391</td>\n",
              "      <td>0.591871</td>\n",
              "      <td>0.0</td>\n",
              "      <td>0.0</td>\n",
              "      <td>0.0</td>\n",
              "      <td>0.0</td>\n",
              "      <td>0.591871</td>\n",
              "      <td>5.619994</td>\n",
              "      <td>1.334282</td>\n",
              "      <td>0.000000</td>\n",
              "      <td>9.796088</td>\n",
              "      <td>0.0</td>\n",
              "      <td>0.000000</td>\n",
              "      <td>1.598651</td>\n",
              "      <td>7.215116</td>\n",
              "      <td>10.839070</td>\n",
              "      <td>6.620204</td>\n",
              "      <td>9.513538</td>\n",
              "      <td>0.0</td>\n",
              "      <td>4.063658</td>\n",
              "      <td>7.764805</td>\n",
              "      <td>4.747656</td>\n",
              "      <td>13.714396</td>\n",
              "      <td>10.034496</td>\n",
              "      <td>0.000000</td>\n",
              "      <td>0.0</td>\n",
              "      <td>9.833458</td>\n",
              "      <td>...</td>\n",
              "      <td>9.370304</td>\n",
              "      <td>10.362393</td>\n",
              "      <td>5.589928</td>\n",
              "      <td>8.141964</td>\n",
              "      <td>0.000000</td>\n",
              "      <td>2.736583</td>\n",
              "      <td>7.037152</td>\n",
              "      <td>7.123480</td>\n",
              "      <td>10.967399</td>\n",
              "      <td>5.902800</td>\n",
              "      <td>3.719370</td>\n",
              "      <td>7.203554</td>\n",
              "      <td>6.042557</td>\n",
              "      <td>2.602077</td>\n",
              "      <td>7.425526</td>\n",
              "      <td>7.846957</td>\n",
              "      <td>2.824951</td>\n",
              "      <td>6.239396</td>\n",
              "      <td>0.000000</td>\n",
              "      <td>8.469593</td>\n",
              "      <td>0.0</td>\n",
              "      <td>6.535978</td>\n",
              "      <td>6.968701</td>\n",
              "      <td>7.128881</td>\n",
              "      <td>7.175175</td>\n",
              "      <td>9.249369</td>\n",
              "      <td>7.025970</td>\n",
              "      <td>8.045563</td>\n",
              "      <td>7.475709</td>\n",
              "      <td>7.205236</td>\n",
              "      <td>4.926711</td>\n",
              "      <td>8.210257</td>\n",
              "      <td>9.723516</td>\n",
              "      <td>7.220030</td>\n",
              "      <td>9.119813</td>\n",
              "      <td>12.003135</td>\n",
              "      <td>9.650743</td>\n",
              "      <td>8.921326</td>\n",
              "      <td>5.286759</td>\n",
              "      <td>0.0</td>\n",
              "    </tr>\n",
              "    <tr>\n",
              "      <th>1</th>\n",
              "      <td>sample_1</td>\n",
              "      <td>0.0</td>\n",
              "      <td>0.592732</td>\n",
              "      <td>1.588421</td>\n",
              "      <td>7.586157</td>\n",
              "      <td>9.623011</td>\n",
              "      <td>0.0</td>\n",
              "      <td>6.816049</td>\n",
              "      <td>0.000000</td>\n",
              "      <td>0.0</td>\n",
              "      <td>0.0</td>\n",
              "      <td>0.000000</td>\n",
              "      <td>0.587845</td>\n",
              "      <td>2.466601</td>\n",
              "      <td>1.004394</td>\n",
              "      <td>0.0</td>\n",
              "      <td>0.0</td>\n",
              "      <td>0.0</td>\n",
              "      <td>0.0</td>\n",
              "      <td>0.000000</td>\n",
              "      <td>11.055208</td>\n",
              "      <td>3.562621</td>\n",
              "      <td>0.000000</td>\n",
              "      <td>10.070470</td>\n",
              "      <td>0.0</td>\n",
              "      <td>0.000000</td>\n",
              "      <td>0.000000</td>\n",
              "      <td>9.949812</td>\n",
              "      <td>8.522476</td>\n",
              "      <td>1.174790</td>\n",
              "      <td>4.926991</td>\n",
              "      <td>0.0</td>\n",
              "      <td>0.000000</td>\n",
              "      <td>5.819832</td>\n",
              "      <td>1.327170</td>\n",
              "      <td>13.286240</td>\n",
              "      <td>6.663316</td>\n",
              "      <td>0.587845</td>\n",
              "      <td>0.0</td>\n",
              "      <td>9.533302</td>\n",
              "      <td>...</td>\n",
              "      <td>8.882967</td>\n",
              "      <td>9.898199</td>\n",
              "      <td>7.069401</td>\n",
              "      <td>7.186134</td>\n",
              "      <td>0.000000</td>\n",
              "      <td>3.134993</td>\n",
              "      <td>6.648930</td>\n",
              "      <td>6.715701</td>\n",
              "      <td>9.536238</td>\n",
              "      <td>1.004394</td>\n",
              "      <td>5.555482</td>\n",
              "      <td>8.029260</td>\n",
              "      <td>6.366219</td>\n",
              "      <td>0.811142</td>\n",
              "      <td>7.991732</td>\n",
              "      <td>7.161001</td>\n",
              "      <td>0.000000</td>\n",
              "      <td>4.708877</td>\n",
              "      <td>0.811142</td>\n",
              "      <td>8.451689</td>\n",
              "      <td>0.0</td>\n",
              "      <td>7.242336</td>\n",
              "      <td>8.046284</td>\n",
              "      <td>6.047558</td>\n",
              "      <td>8.572901</td>\n",
              "      <td>7.549030</td>\n",
              "      <td>7.019935</td>\n",
              "      <td>9.458940</td>\n",
              "      <td>9.190867</td>\n",
              "      <td>10.639259</td>\n",
              "      <td>4.593372</td>\n",
              "      <td>7.323865</td>\n",
              "      <td>9.740931</td>\n",
              "      <td>6.256586</td>\n",
              "      <td>8.381612</td>\n",
              "      <td>12.674552</td>\n",
              "      <td>10.517059</td>\n",
              "      <td>9.397854</td>\n",
              "      <td>2.094168</td>\n",
              "      <td>0.0</td>\n",
              "    </tr>\n",
              "    <tr>\n",
              "      <th>2</th>\n",
              "      <td>sample_2</td>\n",
              "      <td>0.0</td>\n",
              "      <td>3.511759</td>\n",
              "      <td>4.327199</td>\n",
              "      <td>6.881787</td>\n",
              "      <td>9.870730</td>\n",
              "      <td>0.0</td>\n",
              "      <td>6.972130</td>\n",
              "      <td>0.452595</td>\n",
              "      <td>0.0</td>\n",
              "      <td>0.0</td>\n",
              "      <td>0.000000</td>\n",
              "      <td>0.452595</td>\n",
              "      <td>1.981122</td>\n",
              "      <td>1.074163</td>\n",
              "      <td>0.0</td>\n",
              "      <td>0.0</td>\n",
              "      <td>0.0</td>\n",
              "      <td>0.0</td>\n",
              "      <td>1.683023</td>\n",
              "      <td>8.210248</td>\n",
              "      <td>4.195285</td>\n",
              "      <td>3.660427</td>\n",
              "      <td>8.970920</td>\n",
              "      <td>0.0</td>\n",
              "      <td>0.000000</td>\n",
              "      <td>0.796598</td>\n",
              "      <td>6.096650</td>\n",
              "      <td>9.861616</td>\n",
              "      <td>7.680507</td>\n",
              "      <td>3.119439</td>\n",
              "      <td>0.0</td>\n",
              "      <td>0.452595</td>\n",
              "      <td>7.899526</td>\n",
              "      <td>0.000000</td>\n",
              "      <td>10.731098</td>\n",
              "      <td>6.967883</td>\n",
              "      <td>0.452595</td>\n",
              "      <td>0.0</td>\n",
              "      <td>9.646323</td>\n",
              "      <td>...</td>\n",
              "      <td>10.355637</td>\n",
              "      <td>10.423274</td>\n",
              "      <td>5.170201</td>\n",
              "      <td>6.194260</td>\n",
              "      <td>0.000000</td>\n",
              "      <td>3.677147</td>\n",
              "      <td>6.271990</td>\n",
              "      <td>7.089816</td>\n",
              "      <td>9.675220</td>\n",
              "      <td>0.000000</td>\n",
              "      <td>4.224017</td>\n",
              "      <td>8.020402</td>\n",
              "      <td>6.967883</td>\n",
              "      <td>5.014445</td>\n",
              "      <td>8.400038</td>\n",
              "      <td>7.527555</td>\n",
              "      <td>0.000000</td>\n",
              "      <td>4.997902</td>\n",
              "      <td>0.796598</td>\n",
              "      <td>7.761132</td>\n",
              "      <td>0.0</td>\n",
              "      <td>6.820460</td>\n",
              "      <td>8.048983</td>\n",
              "      <td>6.661493</td>\n",
              "      <td>7.716332</td>\n",
              "      <td>6.745802</td>\n",
              "      <td>7.524667</td>\n",
              "      <td>8.602350</td>\n",
              "      <td>9.036654</td>\n",
              "      <td>10.336027</td>\n",
              "      <td>5.125213</td>\n",
              "      <td>8.127123</td>\n",
              "      <td>10.908640</td>\n",
              "      <td>5.401607</td>\n",
              "      <td>9.911597</td>\n",
              "      <td>9.045255</td>\n",
              "      <td>9.788359</td>\n",
              "      <td>10.090470</td>\n",
              "      <td>1.683023</td>\n",
              "      <td>0.0</td>\n",
              "    </tr>\n",
              "    <tr>\n",
              "      <th>3</th>\n",
              "      <td>sample_3</td>\n",
              "      <td>0.0</td>\n",
              "      <td>3.663618</td>\n",
              "      <td>4.507649</td>\n",
              "      <td>6.659068</td>\n",
              "      <td>10.196184</td>\n",
              "      <td>0.0</td>\n",
              "      <td>7.843375</td>\n",
              "      <td>0.434882</td>\n",
              "      <td>0.0</td>\n",
              "      <td>0.0</td>\n",
              "      <td>0.000000</td>\n",
              "      <td>0.434882</td>\n",
              "      <td>2.874246</td>\n",
              "      <td>0.000000</td>\n",
              "      <td>0.0</td>\n",
              "      <td>0.0</td>\n",
              "      <td>0.0</td>\n",
              "      <td>0.0</td>\n",
              "      <td>1.267356</td>\n",
              "      <td>8.306317</td>\n",
              "      <td>3.573556</td>\n",
              "      <td>0.000000</td>\n",
              "      <td>8.524616</td>\n",
              "      <td>0.0</td>\n",
              "      <td>0.000000</td>\n",
              "      <td>0.000000</td>\n",
              "      <td>3.913761</td>\n",
              "      <td>9.511573</td>\n",
              "      <td>6.469165</td>\n",
              "      <td>7.029895</td>\n",
              "      <td>0.0</td>\n",
              "      <td>1.267356</td>\n",
              "      <td>6.800641</td>\n",
              "      <td>7.742714</td>\n",
              "      <td>12.659474</td>\n",
              "      <td>8.299890</td>\n",
              "      <td>0.768587</td>\n",
              "      <td>0.0</td>\n",
              "      <td>9.670731</td>\n",
              "      <td>...</td>\n",
              "      <td>10.074382</td>\n",
              "      <td>9.918261</td>\n",
              "      <td>7.117924</td>\n",
              "      <td>7.196145</td>\n",
              "      <td>0.434882</td>\n",
              "      <td>3.609755</td>\n",
              "      <td>8.896696</td>\n",
              "      <td>7.577096</td>\n",
              "      <td>10.731446</td>\n",
              "      <td>5.075383</td>\n",
              "      <td>2.175652</td>\n",
              "      <td>7.675435</td>\n",
              "      <td>6.840816</td>\n",
              "      <td>6.233192</td>\n",
              "      <td>8.899886</td>\n",
              "      <td>8.319085</td>\n",
              "      <td>1.791814</td>\n",
              "      <td>5.661134</td>\n",
              "      <td>1.464093</td>\n",
              "      <td>8.625727</td>\n",
              "      <td>0.0</td>\n",
              "      <td>7.420095</td>\n",
              "      <td>7.784746</td>\n",
              "      <td>7.613915</td>\n",
              "      <td>8.963286</td>\n",
              "      <td>7.744699</td>\n",
              "      <td>7.924997</td>\n",
              "      <td>8.981473</td>\n",
              "      <td>8.665592</td>\n",
              "      <td>9.194823</td>\n",
              "      <td>6.076566</td>\n",
              "      <td>8.792959</td>\n",
              "      <td>10.141520</td>\n",
              "      <td>8.942805</td>\n",
              "      <td>9.601208</td>\n",
              "      <td>11.392682</td>\n",
              "      <td>9.694814</td>\n",
              "      <td>9.684365</td>\n",
              "      <td>3.292001</td>\n",
              "      <td>0.0</td>\n",
              "    </tr>\n",
              "    <tr>\n",
              "      <th>4</th>\n",
              "      <td>sample_4</td>\n",
              "      <td>0.0</td>\n",
              "      <td>2.655741</td>\n",
              "      <td>2.821547</td>\n",
              "      <td>6.539454</td>\n",
              "      <td>9.738265</td>\n",
              "      <td>0.0</td>\n",
              "      <td>6.566967</td>\n",
              "      <td>0.360982</td>\n",
              "      <td>0.0</td>\n",
              "      <td>0.0</td>\n",
              "      <td>0.000000</td>\n",
              "      <td>1.275841</td>\n",
              "      <td>2.141204</td>\n",
              "      <td>0.000000</td>\n",
              "      <td>0.0</td>\n",
              "      <td>0.0</td>\n",
              "      <td>0.0</td>\n",
              "      <td>0.0</td>\n",
              "      <td>0.889707</td>\n",
              "      <td>10.149150</td>\n",
              "      <td>2.967630</td>\n",
              "      <td>0.000000</td>\n",
              "      <td>8.047238</td>\n",
              "      <td>0.0</td>\n",
              "      <td>1.435949</td>\n",
              "      <td>0.000000</td>\n",
              "      <td>1.942120</td>\n",
              "      <td>8.821535</td>\n",
              "      <td>5.861429</td>\n",
              "      <td>7.755709</td>\n",
              "      <td>0.0</td>\n",
              "      <td>0.649386</td>\n",
              "      <td>5.570241</td>\n",
              "      <td>2.612801</td>\n",
              "      <td>13.556734</td>\n",
              "      <td>8.004754</td>\n",
              "      <td>0.000000</td>\n",
              "      <td>0.0</td>\n",
              "      <td>9.587569</td>\n",
              "      <td>...</td>\n",
              "      <td>10.129154</td>\n",
              "      <td>10.062303</td>\n",
              "      <td>6.911620</td>\n",
              "      <td>7.855149</td>\n",
              "      <td>0.360982</td>\n",
              "      <td>3.655810</td>\n",
              "      <td>7.255520</td>\n",
              "      <td>7.292607</td>\n",
              "      <td>10.779793</td>\n",
              "      <td>3.954001</td>\n",
              "      <td>6.991148</td>\n",
              "      <td>8.153248</td>\n",
              "      <td>7.508444</td>\n",
              "      <td>4.586531</td>\n",
              "      <td>9.152227</td>\n",
              "      <td>8.227717</td>\n",
              "      <td>0.360982</td>\n",
              "      <td>6.227104</td>\n",
              "      <td>0.649386</td>\n",
              "      <td>8.151879</td>\n",
              "      <td>0.0</td>\n",
              "      <td>6.558289</td>\n",
              "      <td>8.673708</td>\n",
              "      <td>6.505099</td>\n",
              "      <td>8.948989</td>\n",
              "      <td>7.010366</td>\n",
              "      <td>7.364056</td>\n",
              "      <td>8.950646</td>\n",
              "      <td>8.233366</td>\n",
              "      <td>9.298775</td>\n",
              "      <td>5.996032</td>\n",
              "      <td>8.891425</td>\n",
              "      <td>10.373790</td>\n",
              "      <td>7.181162</td>\n",
              "      <td>9.846910</td>\n",
              "      <td>11.922439</td>\n",
              "      <td>9.217749</td>\n",
              "      <td>9.461191</td>\n",
              "      <td>5.110372</td>\n",
              "      <td>0.0</td>\n",
              "    </tr>\n",
              "  </tbody>\n",
              "</table>\n",
              "<p>5 rows × 20532 columns</p>\n",
              "</div>"
            ],
            "text/plain": [
              "  Unnamed: 0  gene_0    gene_1  ...  gene_20528  gene_20529  gene_20530\n",
              "0   sample_0     0.0  2.017209  ...    8.921326    5.286759         0.0\n",
              "1   sample_1     0.0  0.592732  ...    9.397854    2.094168         0.0\n",
              "2   sample_2     0.0  3.511759  ...   10.090470    1.683023         0.0\n",
              "3   sample_3     0.0  3.663618  ...    9.684365    3.292001         0.0\n",
              "4   sample_4     0.0  2.655741  ...    9.461191    5.110372         0.0\n",
              "\n",
              "[5 rows x 20532 columns]"
            ]
          },
          "metadata": {
            "tags": []
          },
          "execution_count": 4
        }
      ]
    },
    {
      "cell_type": "code",
      "metadata": {
        "colab": {
          "base_uri": "https://localhost:8080/"
        },
        "id": "ErbssdpL5P_8",
        "outputId": "b17cbc2f-9a63-4835-ded7-5f3239df78ea"
      },
      "source": [
        "data.shape"
      ],
      "execution_count": 5,
      "outputs": [
        {
          "output_type": "execute_result",
          "data": {
            "text/plain": [
              "(801, 20532)"
            ]
          },
          "metadata": {
            "tags": []
          },
          "execution_count": 5
        }
      ]
    },
    {
      "cell_type": "code",
      "metadata": {
        "colab": {
          "base_uri": "https://localhost:8080/",
          "height": 402
        },
        "id": "CnpMBTeZJ-Y1",
        "outputId": "390cb8a8-2f7e-43d4-b4ab-7d42ff29807c"
      },
      "source": [
        "data.iloc[:,[3,6]]"
      ],
      "execution_count": 6,
      "outputs": [
        {
          "output_type": "execute_result",
          "data": {
            "text/html": [
              "<div>\n",
              "<style scoped>\n",
              "    .dataframe tbody tr th:only-of-type {\n",
              "        vertical-align: middle;\n",
              "    }\n",
              "\n",
              "    .dataframe tbody tr th {\n",
              "        vertical-align: top;\n",
              "    }\n",
              "\n",
              "    .dataframe thead th {\n",
              "        text-align: right;\n",
              "    }\n",
              "</style>\n",
              "<table border=\"1\" class=\"dataframe\">\n",
              "  <thead>\n",
              "    <tr style=\"text-align: right;\">\n",
              "      <th></th>\n",
              "      <th>gene_2</th>\n",
              "      <th>gene_5</th>\n",
              "    </tr>\n",
              "  </thead>\n",
              "  <tbody>\n",
              "    <tr>\n",
              "      <th>0</th>\n",
              "      <td>3.265527</td>\n",
              "      <td>0.0</td>\n",
              "    </tr>\n",
              "    <tr>\n",
              "      <th>1</th>\n",
              "      <td>1.588421</td>\n",
              "      <td>0.0</td>\n",
              "    </tr>\n",
              "    <tr>\n",
              "      <th>2</th>\n",
              "      <td>4.327199</td>\n",
              "      <td>0.0</td>\n",
              "    </tr>\n",
              "    <tr>\n",
              "      <th>3</th>\n",
              "      <td>4.507649</td>\n",
              "      <td>0.0</td>\n",
              "    </tr>\n",
              "    <tr>\n",
              "      <th>4</th>\n",
              "      <td>2.821547</td>\n",
              "      <td>0.0</td>\n",
              "    </tr>\n",
              "    <tr>\n",
              "      <th>...</th>\n",
              "      <td>...</td>\n",
              "      <td>...</td>\n",
              "    </tr>\n",
              "    <tr>\n",
              "      <th>796</th>\n",
              "      <td>2.718197</td>\n",
              "      <td>0.0</td>\n",
              "    </tr>\n",
              "    <tr>\n",
              "      <th>797</th>\n",
              "      <td>4.453807</td>\n",
              "      <td>0.0</td>\n",
              "    </tr>\n",
              "    <tr>\n",
              "      <th>798</th>\n",
              "      <td>3.707492</td>\n",
              "      <td>0.0</td>\n",
              "    </tr>\n",
              "    <tr>\n",
              "      <th>799</th>\n",
              "      <td>2.787976</td>\n",
              "      <td>0.0</td>\n",
              "    </tr>\n",
              "    <tr>\n",
              "      <th>800</th>\n",
              "      <td>3.805932</td>\n",
              "      <td>0.0</td>\n",
              "    </tr>\n",
              "  </tbody>\n",
              "</table>\n",
              "<p>801 rows × 2 columns</p>\n",
              "</div>"
            ],
            "text/plain": [
              "       gene_2  gene_5\n",
              "0    3.265527     0.0\n",
              "1    1.588421     0.0\n",
              "2    4.327199     0.0\n",
              "3    4.507649     0.0\n",
              "4    2.821547     0.0\n",
              "..        ...     ...\n",
              "796  2.718197     0.0\n",
              "797  4.453807     0.0\n",
              "798  3.707492     0.0\n",
              "799  2.787976     0.0\n",
              "800  3.805932     0.0\n",
              "\n",
              "[801 rows x 2 columns]"
            ]
          },
          "metadata": {
            "tags": []
          },
          "execution_count": 6
        }
      ]
    },
    {
      "cell_type": "code",
      "metadata": {
        "colab": {
          "base_uri": "https://localhost:8080/"
        },
        "id": "XbnegQot5daa",
        "outputId": "dac943c8-48ac-4e08-ecbd-6a8d86885490"
      },
      "source": [
        "data.isnull().count()"
      ],
      "execution_count": 7,
      "outputs": [
        {
          "output_type": "execute_result",
          "data": {
            "text/plain": [
              "Unnamed: 0    801\n",
              "gene_0        801\n",
              "gene_1        801\n",
              "gene_2        801\n",
              "gene_3        801\n",
              "             ... \n",
              "gene_20526    801\n",
              "gene_20527    801\n",
              "gene_20528    801\n",
              "gene_20529    801\n",
              "gene_20530    801\n",
              "Length: 20532, dtype: int64"
            ]
          },
          "metadata": {
            "tags": []
          },
          "execution_count": 7
        }
      ]
    },
    {
      "cell_type": "code",
      "metadata": {
        "colab": {
          "base_uri": "https://localhost:8080/"
        },
        "id": "sdNz4QXR-sql",
        "outputId": "942a76a6-e360-4f84-ac66-9f82b9ba8d36"
      },
      "source": [
        "data.iloc[:,1:11].columns"
      ],
      "execution_count": 8,
      "outputs": [
        {
          "output_type": "execute_result",
          "data": {
            "text/plain": [
              "Index(['gene_0', 'gene_1', 'gene_2', 'gene_3', 'gene_4', 'gene_5', 'gene_6',\n",
              "       'gene_7', 'gene_8', 'gene_9'],\n",
              "      dtype='object')"
            ]
          },
          "metadata": {
            "tags": []
          },
          "execution_count": 8
        }
      ]
    },
    {
      "cell_type": "code",
      "metadata": {
        "colab": {
          "base_uri": "https://localhost:8080/",
          "height": 434
        },
        "id": "jFHaZay--gh9",
        "outputId": "382c8d7f-89d7-40dd-9702-8cc6a52096ea"
      },
      "source": [
        "# distribution of variables\n",
        "import matplotlib.pyplot as plt\n",
        "plt.figure(figsize=(12,12))\n",
        "for i,j in zip(range(9),data.iloc[:,1:11].columns):\n",
        "  plt.subplot(5,3,i+1)\n",
        "  plt.hist(data[j])"
      ],
      "execution_count": 9,
      "outputs": [
        {
          "output_type": "display_data",
          "data": {
            "image/png": "[encoded data removed]",
            "text/plain": [
              "<Figure size 864x864 with 9 Axes>"
            ]
          },
          "metadata": {
            "tags": [],
            "needs_background": "light"
          }
        }
      ]
    },
    {
      "cell_type": "code",
      "metadata": {
        "colab": {
          "base_uri": "https://localhost:8080/",
          "height": 195
        },
        "id": "tcNdT4zn83Tr",
        "outputId": "497c6b2a-96cb-4086-a187-99def54601a1"
      },
      "source": [
        "label.head()"
      ],
      "execution_count": 10,
      "outputs": [
        {
          "output_type": "execute_result",
          "data": {
            "text/html": [
              "<div>\n",
              "<style scoped>\n",
              "    .dataframe tbody tr th:only-of-type {\n",
              "        vertical-align: middle;\n",
              "    }\n",
              "\n",
              "    .dataframe tbody tr th {\n",
              "        vertical-align: top;\n",
              "    }\n",
              "\n",
              "    .dataframe thead th {\n",
              "        text-align: right;\n",
              "    }\n",
              "</style>\n",
              "<table border=\"1\" class=\"dataframe\">\n",
              "  <thead>\n",
              "    <tr style=\"text-align: right;\">\n",
              "      <th></th>\n",
              "      <th>Unnamed: 0</th>\n",
              "      <th>Class</th>\n",
              "    </tr>\n",
              "  </thead>\n",
              "  <tbody>\n",
              "    <tr>\n",
              "      <th>0</th>\n",
              "      <td>sample_0</td>\n",
              "      <td>PRAD</td>\n",
              "    </tr>\n",
              "    <tr>\n",
              "      <th>1</th>\n",
              "      <td>sample_1</td>\n",
              "      <td>LUAD</td>\n",
              "    </tr>\n",
              "    <tr>\n",
              "      <th>2</th>\n",
              "      <td>sample_2</td>\n",
              "      <td>PRAD</td>\n",
              "    </tr>\n",
              "    <tr>\n",
              "      <th>3</th>\n",
              "      <td>sample_3</td>\n",
              "      <td>PRAD</td>\n",
              "    </tr>\n",
              "    <tr>\n",
              "      <th>4</th>\n",
              "      <td>sample_4</td>\n",
              "      <td>BRCA</td>\n",
              "    </tr>\n",
              "  </tbody>\n",
              "</table>\n",
              "</div>"
            ],
            "text/plain": [
              "  Unnamed: 0 Class\n",
              "0   sample_0  PRAD\n",
              "1   sample_1  LUAD\n",
              "2   sample_2  PRAD\n",
              "3   sample_3  PRAD\n",
              "4   sample_4  BRCA"
            ]
          },
          "metadata": {
            "tags": []
          },
          "execution_count": 10
        }
      ]
    },
    {
      "cell_type": "code",
      "metadata": {
        "colab": {
          "base_uri": "https://localhost:8080/"
        },
        "id": "Np7sriFM8_Ga",
        "outputId": "134dd36c-ea47-4d05-a980-c23aadbb1a22"
      },
      "source": [
        "label.shape"
      ],
      "execution_count": 11,
      "outputs": [
        {
          "output_type": "execute_result",
          "data": {
            "text/plain": [
              "(801, 2)"
            ]
          },
          "metadata": {
            "tags": []
          },
          "execution_count": 11
        }
      ]
    },
    {
      "cell_type": "code",
      "metadata": {
        "colab": {
          "base_uri": "https://localhost:8080/"
        },
        "id": "y_UKOafEAbDM",
        "outputId": "466c4225-9701-4603-8d21-ee898e0c3a86"
      },
      "source": [
        "label.Class.values"
      ],
      "execution_count": 12,
      "outputs": [
        {
          "output_type": "execute_result",
          "data": {
            "text/plain": [
              "array(['PRAD', 'LUAD', 'PRAD', 'PRAD', 'BRCA', 'PRAD', 'KIRC', 'PRAD',\n",
              "       'BRCA', 'PRAD', 'BRCA', 'KIRC', 'PRAD', 'BRCA', 'BRCA', 'BRCA',\n",
              "       'LUAD', 'KIRC', 'KIRC', 'PRAD', 'BRCA', 'KIRC', 'LUAD', 'BRCA',\n",
              "       'KIRC', 'LUAD', 'COAD', 'BRCA', 'BRCA', 'BRCA', 'BRCA', 'BRCA',\n",
              "       'KIRC', 'BRCA', 'PRAD', 'BRCA', 'KIRC', 'LUAD', 'BRCA', 'BRCA',\n",
              "       'KIRC', 'PRAD', 'PRAD', 'KIRC', 'KIRC', 'BRCA', 'PRAD', 'COAD',\n",
              "       'BRCA', 'LUAD', 'BRCA', 'LUAD', 'BRCA', 'PRAD', 'COAD', 'BRCA',\n",
              "       'BRCA', 'COAD', 'KIRC', 'BRCA', 'LUAD', 'KIRC', 'BRCA', 'LUAD',\n",
              "       'PRAD', 'COAD', 'BRCA', 'PRAD', 'KIRC', 'BRCA', 'KIRC', 'BRCA',\n",
              "       'BRCA', 'LUAD', 'BRCA', 'LUAD', 'BRCA', 'KIRC', 'PRAD', 'COAD',\n",
              "       'BRCA', 'PRAD', 'BRCA', 'BRCA', 'PRAD', 'PRAD', 'BRCA', 'BRCA',\n",
              "       'KIRC', 'BRCA', 'PRAD', 'PRAD', 'BRCA', 'BRCA', 'BRCA', 'PRAD',\n",
              "       'COAD', 'BRCA', 'PRAD', 'BRCA', 'BRCA', 'KIRC', 'BRCA', 'KIRC',\n",
              "       'LUAD', 'KIRC', 'LUAD', 'COAD', 'LUAD', 'LUAD', 'PRAD', 'BRCA',\n",
              "       'LUAD', 'PRAD', 'BRCA', 'KIRC', 'KIRC', 'KIRC', 'BRCA', 'BRCA',\n",
              "       'LUAD', 'KIRC', 'LUAD', 'BRCA', 'PRAD', 'PRAD', 'PRAD', 'BRCA',\n",
              "       'KIRC', 'LUAD', 'COAD', 'BRCA', 'COAD', 'BRCA', 'BRCA', 'KIRC',\n",
              "       'LUAD', 'BRCA', 'KIRC', 'COAD', 'BRCA', 'PRAD', 'BRCA', 'KIRC',\n",
              "       'LUAD', 'COAD', 'PRAD', 'BRCA', 'LUAD', 'LUAD', 'LUAD', 'LUAD',\n",
              "       'BRCA', 'BRCA', 'LUAD', 'BRCA', 'BRCA', 'PRAD', 'PRAD', 'LUAD',\n",
              "       'PRAD', 'LUAD', 'KIRC', 'BRCA', 'PRAD', 'LUAD', 'COAD', 'KIRC',\n",
              "       'LUAD', 'BRCA', 'KIRC', 'LUAD', 'BRCA', 'LUAD', 'BRCA', 'BRCA',\n",
              "       'BRCA', 'PRAD', 'BRCA', 'KIRC', 'COAD', 'KIRC', 'BRCA', 'PRAD',\n",
              "       'PRAD', 'PRAD', 'LUAD', 'LUAD', 'BRCA', 'LUAD', 'LUAD', 'KIRC',\n",
              "       'LUAD', 'PRAD', 'LUAD', 'BRCA', 'BRCA', 'BRCA', 'LUAD', 'LUAD',\n",
              "       'BRCA', 'KIRC', 'KIRC', 'KIRC', 'KIRC', 'PRAD', 'BRCA', 'PRAD',\n",
              "       'BRCA', 'LUAD', 'LUAD', 'BRCA', 'PRAD', 'BRCA', 'PRAD', 'BRCA',\n",
              "       'BRCA', 'BRCA', 'LUAD', 'BRCA', 'KIRC', 'LUAD', 'KIRC', 'KIRC',\n",
              "       'LUAD', 'BRCA', 'KIRC', 'PRAD', 'BRCA', 'LUAD', 'LUAD', 'PRAD',\n",
              "       'COAD', 'BRCA', 'KIRC', 'PRAD', 'KIRC', 'COAD', 'BRCA', 'KIRC',\n",
              "       'KIRC', 'LUAD', 'PRAD', 'PRAD', 'LUAD', 'LUAD', 'KIRC', 'BRCA',\n",
              "       'BRCA', 'COAD', 'BRCA', 'PRAD', 'COAD', 'BRCA', 'PRAD', 'KIRC',\n",
              "       'PRAD', 'PRAD', 'PRAD', 'BRCA', 'COAD', 'COAD', 'LUAD', 'COAD',\n",
              "       'COAD', 'PRAD', 'LUAD', 'BRCA', 'BRCA', 'KIRC', 'KIRC', 'BRCA',\n",
              "       'COAD', 'PRAD', 'KIRC', 'PRAD', 'BRCA', 'BRCA', 'KIRC', 'BRCA',\n",
              "       'BRCA', 'BRCA', 'BRCA', 'LUAD', 'LUAD', 'BRCA', 'BRCA', 'BRCA',\n",
              "       'KIRC', 'KIRC', 'KIRC', 'KIRC', 'BRCA', 'BRCA', 'BRCA', 'KIRC',\n",
              "       'BRCA', 'BRCA', 'LUAD', 'PRAD', 'BRCA', 'BRCA', 'COAD', 'LUAD',\n",
              "       'PRAD', 'BRCA', 'BRCA', 'BRCA', 'COAD', 'BRCA', 'PRAD', 'BRCA',\n",
              "       'COAD', 'LUAD', 'LUAD', 'PRAD', 'KIRC', 'BRCA', 'KIRC', 'KIRC',\n",
              "       'LUAD', 'COAD', 'KIRC', 'BRCA', 'BRCA', 'BRCA', 'BRCA', 'KIRC',\n",
              "       'BRCA', 'BRCA', 'PRAD', 'BRCA', 'KIRC', 'BRCA', 'LUAD', 'PRAD',\n",
              "       'KIRC', 'BRCA', 'PRAD', 'COAD', 'BRCA', 'BRCA', 'BRCA', 'LUAD',\n",
              "       'LUAD', 'LUAD', 'BRCA', 'BRCA', 'PRAD', 'LUAD', 'BRCA', 'KIRC',\n",
              "       'BRCA', 'COAD', 'COAD', 'LUAD', 'BRCA', 'KIRC', 'BRCA', 'BRCA',\n",
              "       'BRCA', 'COAD', 'LUAD', 'COAD', 'KIRC', 'PRAD', 'KIRC', 'BRCA',\n",
              "       'BRCA', 'KIRC', 'BRCA', 'COAD', 'PRAD', 'LUAD', 'PRAD', 'BRCA',\n",
              "       'KIRC', 'PRAD', 'BRCA', 'COAD', 'KIRC', 'KIRC', 'COAD', 'COAD',\n",
              "       'PRAD', 'BRCA', 'BRCA', 'COAD', 'KIRC', 'BRCA', 'PRAD', 'BRCA',\n",
              "       'BRCA', 'BRCA', 'LUAD', 'LUAD', 'KIRC', 'LUAD', 'BRCA', 'KIRC',\n",
              "       'COAD', 'PRAD', 'BRCA', 'LUAD', 'PRAD', 'BRCA', 'BRCA', 'BRCA',\n",
              "       'LUAD', 'BRCA', 'BRCA', 'PRAD', 'BRCA', 'PRAD', 'COAD', 'BRCA',\n",
              "       'LUAD', 'BRCA', 'BRCA', 'LUAD', 'BRCA', 'BRCA', 'BRCA', 'KIRC',\n",
              "       'LUAD', 'PRAD', 'BRCA', 'PRAD', 'KIRC', 'BRCA', 'KIRC', 'COAD',\n",
              "       'BRCA', 'PRAD', 'LUAD', 'KIRC', 'BRCA', 'BRCA', 'KIRC', 'BRCA',\n",
              "       'LUAD', 'BRCA', 'BRCA', 'PRAD', 'COAD', 'BRCA', 'KIRC', 'LUAD',\n",
              "       'PRAD', 'BRCA', 'PRAD', 'BRCA', 'BRCA', 'BRCA', 'BRCA', 'KIRC',\n",
              "       'LUAD', 'BRCA', 'KIRC', 'BRCA', 'BRCA', 'LUAD', 'LUAD', 'KIRC',\n",
              "       'COAD', 'PRAD', 'COAD', 'BRCA', 'KIRC', 'KIRC', 'BRCA', 'PRAD',\n",
              "       'KIRC', 'COAD', 'LUAD', 'LUAD', 'BRCA', 'PRAD', 'PRAD', 'BRCA',\n",
              "       'PRAD', 'LUAD', 'KIRC', 'PRAD', 'BRCA', 'LUAD', 'PRAD', 'LUAD',\n",
              "       'BRCA', 'BRCA', 'COAD', 'LUAD', 'KIRC', 'COAD', 'LUAD', 'BRCA',\n",
              "       'PRAD', 'BRCA', 'BRCA', 'PRAD', 'BRCA', 'COAD', 'BRCA', 'COAD',\n",
              "       'KIRC', 'BRCA', 'BRCA', 'LUAD', 'LUAD', 'LUAD', 'COAD', 'KIRC',\n",
              "       'LUAD', 'LUAD', 'BRCA', 'BRCA', 'KIRC', 'PRAD', 'LUAD', 'PRAD',\n",
              "       'BRCA', 'KIRC', 'BRCA', 'KIRC', 'KIRC', 'PRAD', 'PRAD', 'LUAD',\n",
              "       'BRCA', 'KIRC', 'COAD', 'COAD', 'BRCA', 'KIRC', 'KIRC', 'BRCA',\n",
              "       'BRCA', 'PRAD', 'KIRC', 'COAD', 'BRCA', 'BRCA', 'COAD', 'LUAD',\n",
              "       'BRCA', 'BRCA', 'BRCA', 'KIRC', 'PRAD', 'LUAD', 'LUAD', 'BRCA',\n",
              "       'KIRC', 'COAD', 'KIRC', 'KIRC', 'BRCA', 'PRAD', 'LUAD', 'KIRC',\n",
              "       'BRCA', 'COAD', 'LUAD', 'LUAD', 'LUAD', 'PRAD', 'LUAD', 'KIRC',\n",
              "       'BRCA', 'BRCA', 'COAD', 'PRAD', 'BRCA', 'BRCA', 'BRCA', 'KIRC',\n",
              "       'LUAD', 'LUAD', 'BRCA', 'PRAD', 'LUAD', 'LUAD', 'BRCA', 'KIRC',\n",
              "       'PRAD', 'COAD', 'LUAD', 'PRAD', 'COAD', 'LUAD', 'COAD', 'KIRC',\n",
              "       'KIRC', 'BRCA', 'BRCA', 'KIRC', 'KIRC', 'COAD', 'BRCA', 'LUAD',\n",
              "       'PRAD', 'PRAD', 'KIRC', 'BRCA', 'LUAD', 'BRCA', 'BRCA', 'COAD',\n",
              "       'BRCA', 'PRAD', 'PRAD', 'BRCA', 'BRCA', 'COAD', 'BRCA', 'KIRC',\n",
              "       'BRCA', 'BRCA', 'COAD', 'BRCA', 'PRAD', 'BRCA', 'BRCA', 'KIRC',\n",
              "       'PRAD', 'LUAD', 'BRCA', 'BRCA', 'KIRC', 'BRCA', 'BRCA', 'BRCA',\n",
              "       'BRCA', 'BRCA', 'COAD', 'LUAD', 'LUAD', 'BRCA', 'BRCA', 'BRCA',\n",
              "       'PRAD', 'BRCA', 'BRCA', 'KIRC', 'LUAD', 'LUAD', 'KIRC', 'KIRC',\n",
              "       'LUAD', 'KIRC', 'COAD', 'BRCA', 'COAD', 'KIRC', 'BRCA', 'BRCA',\n",
              "       'PRAD', 'PRAD', 'PRAD', 'LUAD', 'PRAD', 'PRAD', 'COAD', 'BRCA',\n",
              "       'BRCA', 'COAD', 'LUAD', 'KIRC', 'BRCA', 'KIRC', 'COAD', 'BRCA',\n",
              "       'BRCA', 'BRCA', 'PRAD', 'LUAD', 'KIRC', 'BRCA', 'PRAD', 'KIRC',\n",
              "       'PRAD', 'BRCA', 'LUAD', 'KIRC', 'PRAD', 'LUAD', 'PRAD', 'PRAD',\n",
              "       'BRCA', 'KIRC', 'PRAD', 'LUAD', 'COAD', 'COAD', 'BRCA', 'BRCA',\n",
              "       'BRCA', 'LUAD', 'KIRC', 'KIRC', 'KIRC', 'BRCA', 'LUAD', 'KIRC',\n",
              "       'PRAD', 'BRCA', 'LUAD', 'PRAD', 'BRCA', 'PRAD', 'BRCA', 'KIRC',\n",
              "       'BRCA', 'COAD', 'PRAD', 'PRAD', 'KIRC', 'PRAD', 'KIRC', 'BRCA',\n",
              "       'LUAD', 'LUAD', 'BRCA', 'BRCA', 'KIRC', 'BRCA', 'BRCA', 'BRCA',\n",
              "       'BRCA', 'KIRC', 'KIRC', 'PRAD', 'COAD', 'KIRC', 'BRCA', 'BRCA',\n",
              "       'KIRC', 'BRCA', 'LUAD', 'BRCA', 'BRCA', 'PRAD', 'BRCA', 'PRAD',\n",
              "       'BRCA', 'COAD', 'BRCA', 'BRCA', 'KIRC', 'LUAD', 'BRCA', 'BRCA',\n",
              "       'PRAD', 'BRCA', 'PRAD', 'COAD', 'BRCA', 'BRCA', 'BRCA', 'LUAD',\n",
              "       'BRCA', 'LUAD', 'BRCA', 'LUAD', 'KIRC', 'KIRC', 'COAD', 'COAD',\n",
              "       'BRCA', 'BRCA', 'BRCA', 'LUAD', 'BRCA', 'LUAD', 'KIRC', 'BRCA',\n",
              "       'LUAD', 'KIRC', 'LUAD', 'LUAD', 'LUAD', 'KIRC', 'BRCA', 'PRAD',\n",
              "       'BRCA', 'BRCA', 'KIRC', 'BRCA', 'PRAD', 'KIRC', 'BRCA', 'BRCA',\n",
              "       'BRCA', 'BRCA', 'PRAD', 'LUAD', 'BRCA', 'LUAD', 'COAD', 'PRAD',\n",
              "       'PRAD'], dtype=object)"
            ]
          },
          "metadata": {
            "tags": []
          },
          "execution_count": 12
        }
      ]
    },
    {
      "cell_type": "code",
      "metadata": {
        "colab": {
          "base_uri": "https://localhost:8080/"
        },
        "id": "fIeonafb9lbJ",
        "outputId": "f77c1c8f-a309-43ac-e2eb-5292710a9928"
      },
      "source": [
        "label.Class.unique()"
      ],
      "execution_count": 13,
      "outputs": [
        {
          "output_type": "execute_result",
          "data": {
            "text/plain": [
              "array(['PRAD', 'LUAD', 'BRCA', 'KIRC', 'COAD'], dtype=object)"
            ]
          },
          "metadata": {
            "tags": []
          },
          "execution_count": 13
        }
      ]
    },
    {
      "cell_type": "code",
      "metadata": {
        "colab": {
          "base_uri": "https://localhost:8080/"
        },
        "id": "T80x0NS59TGm",
        "outputId": "3a8be94d-e025-4deb-e7d0-ed3e9d7b66cc"
      },
      "source": [
        "lb_encode = preprocessing.LabelEncoder()\n",
        "target = lb_encode.fit_transform(label.Class.values)\n",
        "target"
      ],
      "execution_count": 14,
      "outputs": [
        {
          "output_type": "execute_result",
          "data": {
            "text/plain": [
              "array([4, 3, 4, 4, 0, 4, 2, 4, 0, 4, 0, 2, 4, 0, 0, 0, 3, 2, 2, 4, 0, 2,\n",
              "       3, 0, 2, 3, 1, 0, 0, 0, 0, 0, 2, 0, 4, 0, 2, 3, 0, 0, 2, 4, 4, 2,\n",
              "       2, 0, 4, 1, 0, 3, 0, 3, 0, 4, 1, 0, 0, 1, 2, 0, 3, 2, 0, 3, 4, 1,\n",
              "       0, 4, 2, 0, 2, 0, 0, 3, 0, 3, 0, 2, 4, 1, 0, 4, 0, 0, 4, 4, 0, 0,\n",
              "       2, 0, 4, 4, 0, 0, 0, 4, 1, 0, 4, 0, 0, 2, 0, 2, 3, 2, 3, 1, 3, 3,\n",
              "       4, 0, 3, 4, 0, 2, 2, 2, 0, 0, 3, 2, 3, 0, 4, 4, 4, 0, 2, 3, 1, 0,\n",
              "       1, 0, 0, 2, 3, 0, 2, 1, 0, 4, 0, 2, 3, 1, 4, 0, 3, 3, 3, 3, 0, 0,\n",
              "       3, 0, 0, 4, 4, 3, 4, 3, 2, 0, 4, 3, 1, 2, 3, 0, 2, 3, 0, 3, 0, 0,\n",
              "       0, 4, 0, 2, 1, 2, 0, 4, 4, 4, 3, 3, 0, 3, 3, 2, 3, 4, 3, 0, 0, 0,\n",
              "       3, 3, 0, 2, 2, 2, 2, 4, 0, 4, 0, 3, 3, 0, 4, 0, 4, 0, 0, 0, 3, 0,\n",
              "       2, 3, 2, 2, 3, 0, 2, 4, 0, 3, 3, 4, 1, 0, 2, 4, 2, 1, 0, 2, 2, 3,\n",
              "       4, 4, 3, 3, 2, 0, 0, 1, 0, 4, 1, 0, 4, 2, 4, 4, 4, 0, 1, 1, 3, 1,\n",
              "       1, 4, 3, 0, 0, 2, 2, 0, 1, 4, 2, 4, 0, 0, 2, 0, 0, 0, 0, 3, 3, 0,\n",
              "       0, 0, 2, 2, 2, 2, 0, 0, 0, 2, 0, 0, 3, 4, 0, 0, 1, 3, 4, 0, 0, 0,\n",
              "       1, 0, 4, 0, 1, 3, 3, 4, 2, 0, 2, 2, 3, 1, 2, 0, 0, 0, 0, 2, 0, 0,\n",
              "       4, 0, 2, 0, 3, 4, 2, 0, 4, 1, 0, 0, 0, 3, 3, 3, 0, 0, 4, 3, 0, 2,\n",
              "       0, 1, 1, 3, 0, 2, 0, 0, 0, 1, 3, 1, 2, 4, 2, 0, 0, 2, 0, 1, 4, 3,\n",
              "       4, 0, 2, 4, 0, 1, 2, 2, 1, 1, 4, 0, 0, 1, 2, 0, 4, 0, 0, 0, 3, 3,\n",
              "       2, 3, 0, 2, 1, 4, 0, 3, 4, 0, 0, 0, 3, 0, 0, 4, 0, 4, 1, 0, 3, 0,\n",
              "       0, 3, 0, 0, 0, 2, 3, 4, 0, 4, 2, 0, 2, 1, 0, 4, 3, 2, 0, 0, 2, 0,\n",
              "       3, 0, 0, 4, 1, 0, 2, 3, 4, 0, 4, 0, 0, 0, 0, 2, 3, 0, 2, 0, 0, 3,\n",
              "       3, 2, 1, 4, 1, 0, 2, 2, 0, 4, 2, 1, 3, 3, 0, 4, 4, 0, 4, 3, 2, 4,\n",
              "       0, 3, 4, 3, 0, 0, 1, 3, 2, 1, 3, 0, 4, 0, 0, 4, 0, 1, 0, 1, 2, 0,\n",
              "       0, 3, 3, 3, 1, 2, 3, 3, 0, 0, 2, 4, 3, 4, 0, 2, 0, 2, 2, 4, 4, 3,\n",
              "       0, 2, 1, 1, 0, 2, 2, 0, 0, 4, 2, 1, 0, 0, 1, 3, 0, 0, 0, 2, 4, 3,\n",
              "       3, 0, 2, 1, 2, 2, 0, 4, 3, 2, 0, 1, 3, 3, 3, 4, 3, 2, 0, 0, 1, 4,\n",
              "       0, 0, 0, 2, 3, 3, 0, 4, 3, 3, 0, 2, 4, 1, 3, 4, 1, 3, 1, 2, 2, 0,\n",
              "       0, 2, 2, 1, 0, 3, 4, 4, 2, 0, 3, 0, 0, 1, 0, 4, 4, 0, 0, 1, 0, 2,\n",
              "       0, 0, 1, 0, 4, 0, 0, 2, 4, 3, 0, 0, 2, 0, 0, 0, 0, 0, 1, 3, 3, 0,\n",
              "       0, 0, 4, 0, 0, 2, 3, 3, 2, 2, 3, 2, 1, 0, 1, 2, 0, 0, 4, 4, 4, 3,\n",
              "       4, 4, 1, 0, 0, 1, 3, 2, 0, 2, 1, 0, 0, 0, 4, 3, 2, 0, 4, 2, 4, 0,\n",
              "       3, 2, 4, 3, 4, 4, 0, 2, 4, 3, 1, 1, 0, 0, 0, 3, 2, 2, 2, 0, 3, 2,\n",
              "       4, 0, 3, 4, 0, 4, 0, 2, 0, 1, 4, 4, 2, 4, 2, 0, 3, 3, 0, 0, 2, 0,\n",
              "       0, 0, 0, 2, 2, 4, 1, 2, 0, 0, 2, 0, 3, 0, 0, 4, 0, 4, 0, 1, 0, 0,\n",
              "       2, 3, 0, 0, 4, 0, 4, 1, 0, 0, 0, 3, 0, 3, 0, 3, 2, 2, 1, 1, 0, 0,\n",
              "       0, 3, 0, 3, 2, 0, 3, 2, 3, 3, 3, 2, 0, 4, 0, 0, 2, 0, 4, 2, 0, 0,\n",
              "       0, 0, 4, 3, 0, 3, 1, 4, 4])"
            ]
          },
          "metadata": {
            "tags": []
          },
          "execution_count": 14
        }
      ]
    },
    {
      "cell_type": "code",
      "metadata": {
        "id": "FfUtnoIkA8AM"
      },
      "source": [
        "kf = KFold(n_splits=5,shuffle=True)\n",
        "#n_splits : int, default=5 Number of folds. Must be at least 2.\n",
        "#shuffle : boolean, optional Whether to shuffle the data before splitting into batches."
      ],
      "execution_count": 15,
      "outputs": []
    },
    {
      "cell_type": "code",
      "metadata": {
        "colab": {
          "base_uri": "https://localhost:8080/"
        },
        "id": "FPnoDRguvuoN",
        "outputId": "bb0dcc00-68fe-4e4c-b8fc-113005b90e6c"
      },
      "source": [
        "features = data.values[:,1:]\n",
        "features"
      ],
      "execution_count": 16,
      "outputs": [
        {
          "output_type": "execute_result",
          "data": {
            "text/plain": [
              "array([[0.0, 2.01720929003, 3.2655269116500003, ..., 8.92132623446,\n",
              "        5.28675919351, 0.0],\n",
              "       [0.0, 0.592732094867, 1.5884208204899999, ..., 9.39785429023,\n",
              "        2.09416849472, 0.0],\n",
              "       [0.0, 3.5117589779, 4.32719871937, ..., 10.0904697402,\n",
              "        1.6830226650600002, 0.0],\n",
              "       ...,\n",
              "       [0.0, 3.24958186728, 3.7074916606599997, ..., 9.4667107202,\n",
              "        4.6774575018, 0.58669269686],\n",
              "       [0.0, 2.5903385331799997, 2.7879756715, ..., 10.4005806223,\n",
              "        5.71875067661, 0.0],\n",
              "       [0.0, 2.3252424833900003, 3.8059321356, ..., 9.84479362571,\n",
              "        4.55071600756, 0.0]], dtype=object)"
            ]
          },
          "metadata": {
            "tags": []
          },
          "execution_count": 16
        }
      ]
    },
    {
      "cell_type": "code",
      "metadata": {
        "colab": {
          "base_uri": "https://localhost:8080/",
          "height": 1000
        },
        "id": "f1Bm5_L1A8Ec",
        "outputId": "90a273de-d3e1-45a1-b5b1-2b85c914cf7e"
      },
      "source": [
        "for train_idx,test_idx in kf.split(features):\n",
        "  #splitting data into test and train\n",
        "  x_train,x_test = features[train_idx],features[test_idx]\n",
        "  y_train,y_test = target[train_idx],target[test_idx]\n",
        "\n",
        "  #features selection by chi2(chi square) \n",
        "  ch2 = SelectKBest(chi2,k=20)\n",
        "  ch2_train = ch2.fit_transform(x_train,y_train)\n",
        "  ch2_test = ch2.transform(x_test)\n",
        "\n",
        "  #Random Forest algorithm is used\n",
        "  tree_mdl = RandomForestClassifier(n_estimators = 10, criterion = 'entropy')\n",
        "  tree_mdl.fit(ch2_train, y_train)\n",
        "\n",
        "  #predicting for test data\n",
        "  y_pred = tree_mdl.predict(ch2_test)\n",
        "\n",
        "  #tree_mdl performance summary\n",
        "  print('check on train data set')\n",
        "  print('\\nAccuracy on training set :' +str(tree_mdl.score(ch2_train,y_train)))\n",
        "  print('check on Test data set')\n",
        "\n",
        "  # precision score, recall score,f1 score\n",
        "  print('\\nPrecision Score')\n",
        "  print(precision_score(y_test,y_pred,average=None))\n",
        "  print('\\nRecall Score')\n",
        "  print(recall_score(y_test,y_pred,average=None))\n",
        "  print('\\n f1 score')\n",
        "  print(f1_score(y_test,y_pred,average=None))\n",
        "\n",
        "  cm=confusion_matrix(y_test,y_pred)\n",
        "  plt.figure(figsize=(10,7))\n",
        "  sns.heatmap(cm, annot=True)\n",
        "  plt.xlabel('Predicted')\n",
        "  plt.ylabel('Truth')"
      ],
      "execution_count": 17,
      "outputs": [
        {
          "output_type": "stream",
          "text": [
            "check on train data set\n",
            "\n",
            "Accuracy on training set :1.0\n",
            "check on Test data set\n",
            "\n",
            "Precision Score\n",
            "[0.98387097 0.93333333 1.         0.96666667 1.        ]\n",
            "\n",
            "Recall Score\n",
            "[0.98387097 1.         0.96969697 0.96666667 1.        ]\n",
            "\n",
            " f1 score\n",
            "[0.98387097 0.96551724 0.98461538 0.96666667 1.        ]\n",
            "check on train data set\n",
            "\n",
            "Accuracy on training set :1.0\n",
            "check on Test data set\n",
            "\n",
            "Precision Score\n",
            "[0.984375   0.94736842 1.         1.         1.        ]\n",
            "\n",
            "Recall Score\n",
            "[1.         1.         0.96551724 0.95652174 1.        ]\n",
            "\n",
            " f1 score\n",
            "[0.99212598 0.97297297 0.98245614 0.97777778 1.        ]\n",
            "check on train data set\n",
            "\n",
            "Accuracy on training set :0.9984399375975039\n",
            "check on Test data set\n",
            "\n",
            "Precision Score\n",
            "[0.95 1.   1.   1.   1.  ]\n",
            "\n",
            "Recall Score\n",
            "[1.         0.94117647 1.         0.93939394 1.        ]\n",
            "\n",
            " f1 score\n",
            "[0.97435897 0.96969697 1.         0.96875    1.        ]\n",
            "check on train data set\n",
            "\n",
            "Accuracy on training set :0.9953198127925117\n",
            "check on Test data set\n",
            "\n",
            "Precision Score\n",
            "[1.         0.94117647 1.         0.96551724 1.        ]\n",
            "\n",
            "Recall Score\n",
            "[0.98275862 1.         0.96428571 1.         1.        ]\n",
            "\n",
            " f1 score\n",
            "[0.99130435 0.96969697 0.98181818 0.98245614 1.        ]\n",
            "check on train data set\n",
            "\n",
            "Accuracy on training set :0.9984399375975039\n",
            "check on Test data set\n",
            "\n",
            "Precision Score\n",
            "[0.98333333 1.         1.         0.96296296 1.        ]\n",
            "\n",
            "Recall Score\n",
            "[0.98333333 1.         1.         0.96296296 1.        ]\n",
            "\n",
            " f1 score\n",
            "[0.98333333 1.         1.         0.96296296 1.        ]\n"
          ],
          "name": "stdout"
        },
        {
          "output_type": "display_data",
          "data": {
            "image/png": "[encoded data removed]",
            "text/plain": [
              "<Figure size 720x504 with 2 Axes>"
            ]
          },
          "metadata": {
            "tags": [],
            "needs_background": "light"
          }
        },
        {
          "output_type": "display_data",
          "data": {
            "image/png": "[encoded data removed]",
            "text/plain": [
              "<Figure size 720x504 with 2 Axes>"
            ]
          },
          "metadata": {
            "tags": [],
            "needs_background": "light"
          }
        },
        {
          "output_type": "display_data",
          "data": {
            "image/png": "[encoded data removed]",
            "text/plain": [
              "<Figure size 720x504 with 2 Axes>"
            ]
          },
          "metadata": {
            "tags": [],
            "needs_background": "light"
          }
        },
        {
          "output_type": "display_data",
          "data": {
            "image/png": "[encoded data removed]",
            "text/plain": [
              "<Figure size 720x504 with 2 Axes>"
            ]
          },
          "metadata": {
            "tags": [],
            "needs_background": "light"
          }
        },
        {
          "output_type": "display_data",
          "data": {
            "image/png": "[encoded data removed]",
            "text/plain": [
              "<Figure size 720x504 with 2 Axes>"
            ]
          },
          "metadata": {
            "tags": [],
            "needs_background": "light"
          }
        }
      ]
    },
    {
      "cell_type": "code",
      "metadata": {
        "id": "83iI2l-FBULU"
      },
      "source": [
        ""
      ],
      "execution_count": 17,
      "outputs": []
    },
    {
      "cell_type": "code",
      "metadata": {
        "id": "VdMeO6cP6E7e"
      },
      "source": [
        ""
      ],
      "execution_count": 17,
      "outputs": []
    }
  ]
}